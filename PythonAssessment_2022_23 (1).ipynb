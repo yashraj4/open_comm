{
 "cells": [
  {
   "cell_type": "markdown",
   "metadata": {
    "id": "hqlAwxycceLg"
   },
   "source": [
    "# Welcome to the **Python Assessment** of **Vertical Collaboration, Open Community**\n",
    "\n",
    "## About the dataset\n",
    "This dataset contains house sale prices for King County, which includes Seattle. It includes homes sold between May 2014 and May 2015.\n",
    "\n",
    "##### To pass the assessment, you must answer all 11 questions correctly ***Bonus section is optional*.\n",
    "\n",
    "#### Wish you all the best!!\n",
    "\n",
    "\n"
   ]
  },
  {
   "cell_type": "code",
   "execution_count": 3,
   "metadata": {
    "id": "wU_bXJPAcsQc"
   },
   "outputs": [],
   "source": [
    "import numpy as np\n",
    "import pandas as pd\n",
    "import matplotlib.pyplot as plt"
   ]
  },
  {
   "cell_type": "markdown",
   "metadata": {
    "id": "4XxnlWfzd7xk"
   },
   "source": [
    "Q1) Your understanding about (max 50 words)\n",
    "\n",
    "\n",
    "1.   NumPY: It stands for Numerical Python and it is a third-party library for performing operations on arrays in Python. For Windows, there is a pre-built installer which comes in Numpy+MKL or Numpy+Vanilla binaries otherwise it can be installed within Python itself with specific commands.\n",
    "2.   Pandas: It is also not a part of Python's standard library and it is a data analysis and manipulation tool. It is also built on top of the Python programming language.\n",
    "3.   MatPlotLib: It is a comprehensive library for creating static, animated, and interactive visualizations in Python.\n",
    "\n"
   ]
  },
  {
   "cell_type": "markdown",
   "metadata": {
    "id": "XmRRFzQccy3j"
   },
   "source": [
    "Q2) Upload the given dataset into the folder named sample_data"
   ]
  },
  {
   "cell_type": "code",
   "execution_count": 4,
   "metadata": {
    "id": "npg0aacAcuDR"
   },
   "outputs": [],
   "source": [
    "sales = pd.read_csv(r'C:\\Users\\Shyam\\Desktop\\sample_data\\kc_house_data.csv')"
   ]
  },
  {
   "cell_type": "markdown",
   "metadata": {
    "id": "zvQY-iP4c4HD"
   },
   "source": [
    "Q2) Find out the total number of rows and columns present in our dataset"
   ]
  },
  {
   "cell_type": "code",
   "execution_count": 5,
   "metadata": {
    "id": "E22av13Mc3eE"
   },
   "outputs": [
    {
     "name": "stdout",
     "output_type": "stream",
     "text": [
      "21613\n",
      "21\n"
     ]
    }
   ],
   "source": [
    "row,col=sales.shape\n",
    "print(row)\n",
    "print(col)"
   ]
  },
  {
   "cell_type": "markdown",
   "metadata": {
    "id": "R6EDQ3U7dMii"
   },
   "source": [
    "Q3) Find out the mean of Price"
   ]
  },
  {
   "cell_type": "code",
   "execution_count": 6,
   "metadata": {
    "id": "2yVwB0Ztc9zz"
   },
   "outputs": [
    {
     "name": "stdout",
     "output_type": "stream",
     "text": [
      "540088.1417665294\n"
     ]
    }
   ],
   "source": [
    "print(sales[\"price\"].mean())"
   ]
  },
  {
   "cell_type": "markdown",
   "metadata": {
    "id": "2QO6-TXvddnN"
   },
   "source": [
    "Q4) Find out which zipcode has maximum no of sales"
   ]
  },
  {
   "cell_type": "code",
   "execution_count": 34,
   "metadata": {
    "id": "vlSAsQfQfgg2"
   },
   "outputs": [
    {
     "name": "stdout",
     "output_type": "stream",
     "text": [
      "98103\n"
     ]
    }
   ],
   "source": [
    "print(str(np.squeeze(sales['zipcode'].mode())))"
   ]
  },
  {
   "cell_type": "markdown",
   "metadata": {
    "id": "eeLeVaWBdj7e"
   },
   "source": [
    "Q5) Make an array displaying type of house grade present"
   ]
  },
  {
   "cell_type": "code",
   "execution_count": 33,
   "metadata": {
    "id": "TOVrRt4sfhrK"
   },
   "outputs": [
    {
     "name": "stdout",
     "output_type": "stream",
     "text": [
      "7     8981\n",
      "8     6068\n",
      "9     2615\n",
      "6     2038\n",
      "10    1134\n",
      "11     399\n",
      "5      242\n",
      "12      90\n",
      "4       29\n",
      "13      13\n",
      "3        3\n",
      "1        1\n",
      "Name: grade, dtype: int64\n"
     ]
    }
   ],
   "source": [
    "print(sales['grade'].value_counts())"
   ]
  },
  {
   "cell_type": "markdown",
   "metadata": {
    "id": "vyYhtqQDdxqj"
   },
   "source": [
    "Q6) Find out the total no sales in conditions 3 and 4"
   ]
  },
  {
   "cell_type": "code",
   "execution_count": 32,
   "metadata": {
    "id": "SkBMOVvafiei"
   },
   "outputs": [
    {
     "name": "stdout",
     "output_type": "stream",
     "text": [
      "602\n"
     ]
    }
   ],
   "source": [
    "print(str((sales['zipcode'] == np.squeeze(sales['zipcode'].mode())).value_counts()[True]))"
   ]
  },
  {
   "cell_type": "markdown",
   "metadata": {
    "id": "AHs7ZLKrdTsD"
   },
   "source": [
    "Q7) Find out the top-five ids with the highest prices"
   ]
  },
  {
   "cell_type": "code",
   "execution_count": 25,
   "metadata": {
    "id": "BS653UBKfjfK"
   },
   "outputs": [
    {
     "name": "stdout",
     "output_type": "stream",
     "text": [
      "7252    6762700020\n",
      "3914    9808700762\n",
      "9254    9208900037\n",
      "4411    2470100110\n",
      "1448    8907500070\n",
      "Name: id, dtype: int64\n"
     ]
    }
   ],
   "source": [
    "h=[\"id\",\"price\"]\n",
    "d = pd.read_csv(r'C:\\Users\\Shyam\\Desktop\\sample_data\\kc_house_data.csv', usecols=h)\n",
    "l=d.nlargest(5,['price'])\n",
    "print(l[\"id\"])"
   ]
  },
  {
   "cell_type": "markdown",
   "metadata": {
    "id": "XP54QULPdZTh"
   },
   "source": [
    "Q8) Draw a pie chart displaying the types of house conditions present"
   ]
  },
  {
   "cell_type": "code",
   "execution_count": 26,
   "metadata": {
    "id": "5XP9quaFfkaI"
   },
   "outputs": [
    {
     "data": {
      "text/plain": [
       "<AxesSubplot:ylabel='zipcode'>"
      ]
     },
     "execution_count": 26,
     "metadata": {},
     "output_type": "execute_result"
    },
    {
     "data": {
      "image/png": "[encoded data removed]",
      "text/plain": [
       "<Figure size 432x288 with 1 Axes>"
      ]
     },
     "metadata": {},
     "output_type": "display_data"
    }
   ],
   "source": [
    "a = pd.DataFrame(sales)\n",
    "a.groupby(['condition']).sum().plot(kind='pie', y='zipcode', shadow = True, startangle=90)"
   ]
  },
  {
   "cell_type": "code",
   "execution_count": 27,
   "metadata": {},
   "outputs": [],
   "source": [
    "number_column = sales.loc[:,'price']\n",
    "\n",
    "\n",
    "numbers = number_column.values"
   ]
  },
  {
   "cell_type": "markdown",
   "metadata": {
    "id": "8gkXMakRdgnZ"
   },
   "source": [
    "Q9) Draw a bar graph displaying the no of sales"
   ]
  },
  {
   "cell_type": "code",
   "execution_count": 29,
   "metadata": {
    "id": "LFwCnSCUflFB"
   },
   "outputs": [
    {
     "data": {
      "image/png": "[encoded data removed]",
      "text/plain": [
       "<Figure size 432x288 with 1 Axes>"
      ]
     },
     "metadata": {
      "needs_background": "light"
     },
     "output_type": "display_data"
    }
   ],
   "source": [
    "sales_column = sales.loc[:,'price']\n",
    "s1 = sales_column.values\n",
    "cond_col = sales.loc[:,'condition']\n",
    "s2 = sales_column.values\n",
    "J = pd.DataFrame({'values': s1,\n",
    "                   'condition': s2})\n",
    "ax = J.plot.bar(rot=0)"
   ]
  },
  {
   "cell_type": "markdown",
   "metadata": {
    "id": "_LGgh106dsBQ"
   },
   "source": [
    "Q10) Draw a graph that display the no of sales according to the date"
   ]
  },
  {
   "cell_type": "code",
   "execution_count": 30,
   "metadata": {
    "id": "pcKacoICflze"
   },
   "outputs": [
    {
     "data": {
      "image/png": "[encoded data removed]",
      "text/plain": [
       "<Figure size 432x288 with 1 Axes>"
      ]
     },
     "metadata": {
      "needs_background": "light"
     },
     "output_type": "display_data"
    }
   ],
   "source": [
    "z = sales['date'].value_counts()\n",
    "barchart =z.plot(kind=\"bar\")"
   ]
  },
  {
   "cell_type": "markdown",
   "metadata": {
    "id": "jFgB7RxAd0rn"
   },
   "source": [
    "Q11) Draw a bar graph that displays the no of sales accoring to the house grade"
   ]
  },
  {
   "cell_type": "code",
   "execution_count": 31,
   "metadata": {
    "id": "ZXPUs_hXfmdR"
   },
   "outputs": [
    {
     "data": {
      "text/plain": [
       "Text(0, 0.5, 'sales')"
      ]
     },
     "execution_count": 31,
     "metadata": {},
     "output_type": "execute_result"
    },
    {
     "data": {
      "image/png": "[encoded data removed]",
      "text/plain": [
       "<Figure size 432x288 with 1 Axes>"
      ]
     },
     "metadata": {
      "needs_background": "light"
     },
     "output_type": "display_data"
    }
   ],
   "source": [
    "c = sales['grade'].value_counts().sort_values()\n",
    "bar_chart = c.plot(kind='bar')\n",
    "plt.xlabel(\"grade\")\n",
    "plt.ylabel(\"sales\")"
   ]
  },
  {
   "cell_type": "markdown",
   "metadata": {
    "id": "HXIvKNK7doXJ"
   },
   "source": [
    "### BONUS"
   ]
  },
  {
   "cell_type": "markdown",
   "metadata": {
    "id": "PRP0ZaKFe8xt"
   },
   "source": [
    "Q1) Is there any relationship present between Year Built and Price? If yes, Please explain."
   ]
  },
  {
   "cell_type": "code",
   "execution_count": 14,
   "metadata": {
    "id": "FXoVpaJKdPSv"
   },
   "outputs": [],
   "source": []
  },
  {
   "cell_type": "markdown",
   "metadata": {
    "id": "QQvNxYe5d3-3"
   },
   "source": [
    "Q2 ) Add 1.8% TAX on every sale Price within Zipcode 98103"
   ]
  },
  {
   "cell_type": "code",
   "execution_count": 15,
   "metadata": {
    "id": "lWDids4yfEAz"
   },
   "outputs": [],
   "source": [
    "# your code here"
   ]
  }
 ],
 "metadata": {
  "colab": {
   "collapsed_sections": [],
   "name": "PythonAssessment_2022-23",
   "provenance": []
  },
  "kernelspec": {
   "display_name": "Python 3",
   "language": "python",
   "name": "python3"
  },
  "language_info": {
   "codemirror_mode": {
    "name": "ipython",
    "version": 3
   },
   "file_extension": ".py",
   "mimetype": "text/x-python",
   "name": "python",
   "nbconvert_exporter": "python",
   "pygments_lexer": "ipython3",
   "version": "3.8.5"
  }
 },
 "nbformat": 4,
 "nbformat_minor": 1
}
